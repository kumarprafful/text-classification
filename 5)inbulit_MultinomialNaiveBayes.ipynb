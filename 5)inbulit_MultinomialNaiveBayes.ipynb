{
 "cells": [
  {
   "cell_type": "code",
   "execution_count": 1,
   "metadata": {},
   "outputs": [],
   "source": [
    "import numpy as np\n",
    "import pandas as pd"
   ]
  },
  {
   "cell_type": "code",
   "execution_count": 2,
   "metadata": {},
   "outputs": [],
   "source": [
    "training_data = np.loadtxt(\"preprocessed_x_y_train.csv\", delimiter=\",\")\n",
    "testing_data = np.loadtxt(\"preprocessed_x_y_test.csv\", delimiter=\",\")"
   ]
  },
  {
   "cell_type": "markdown",
   "metadata": {},
   "source": [
    "# multinomial naive bayes"
   ]
  },
  {
   "cell_type": "code",
   "execution_count": 3,
   "metadata": {},
   "outputs": [],
   "source": [
    "from sklearn.naive_bayes import MultinomialNB\n",
    "from sklearn.metrics import confusion_matrix, classification_report, accuracy_score"
   ]
  },
  {
   "cell_type": "code",
   "execution_count": 4,
   "metadata": {},
   "outputs": [],
   "source": [
    "clf = MultinomialNB() # classifier (multi-nomial naive bayes)"
   ]
  },
  {
   "cell_type": "code",
   "execution_count": 5,
   "metadata": {},
   "outputs": [],
   "source": [
    "#splitting into training and testing\n",
    "x_train = training_data[:,:-1]\n",
    "y_train = training_data[:,-1]\n",
    "x_test = testing_data[:,:-1]\n",
    "y_test = testing_data[:,-1]"
   ]
  },
  {
   "cell_type": "code",
   "execution_count": 6,
   "metadata": {},
   "outputs": [
    {
     "data": {
      "text/plain": [
       "MultinomialNB(alpha=1.0, class_prior=None, fit_prior=True)"
      ]
     },
     "execution_count": 6,
     "metadata": {},
     "output_type": "execute_result"
    }
   ],
   "source": [
    "clf.fit(x_train, y_train) # fitting the classifier with x_train and y_train"
   ]
  },
  {
   "cell_type": "code",
   "execution_count": 7,
   "metadata": {},
   "outputs": [],
   "source": [
    "y_pred = clf.predict(x_test) #predicting the classes"
   ]
  },
  {
   "cell_type": "code",
   "execution_count": 8,
   "metadata": {},
   "outputs": [
    {
     "data": {
      "text/plain": [
       "array([12., 12., 12., ...,  4.,  6.,  3.])"
      ]
     },
     "execution_count": 8,
     "metadata": {},
     "output_type": "execute_result"
    }
   ],
   "source": [
    "y_pred "
   ]
  },
  {
   "cell_type": "code",
   "execution_count": 9,
   "metadata": {
    "scrolled": false
   },
   "outputs": [
    {
     "name": "stdout",
     "output_type": "stream",
     "text": [
      "             precision    recall  f1-score   support\n",
      "\n",
      "        0.0       0.68      0.80      0.73       300\n",
      "        1.0       0.83      0.74      0.78       300\n",
      "        2.0       0.79      0.85      0.82       300\n",
      "        3.0       0.86      0.83      0.84       300\n",
      "        4.0       0.83      0.89      0.86       300\n",
      "        5.0       0.94      0.80      0.86       300\n",
      "        6.0       0.80      0.89      0.84       300\n",
      "        7.0       0.86      0.91      0.88       300\n",
      "        8.0       0.66      0.86      0.74       300\n",
      "        9.0       0.84      0.77      0.80       300\n",
      "       10.0       0.91      0.87      0.89       300\n",
      "       11.0       0.95      0.88      0.91       300\n",
      "       12.0       0.78      0.86      0.82       300\n",
      "       13.0       0.83      0.85      0.84       300\n",
      "       14.0       0.89      0.90      0.90       300\n",
      "       15.0       0.92      0.97      0.94       297\n",
      "       16.0       0.71      0.88      0.79       300\n",
      "       17.0       0.90      0.85      0.87       300\n",
      "       18.0       0.70      0.51      0.59       300\n",
      "       19.0       0.59      0.34      0.43       300\n",
      "\n",
      "avg / total       0.81      0.81      0.81      5997\n",
      "\n"
     ]
    }
   ],
   "source": [
    "print(classification_report(y_true=y_test, y_pred=y_pred))"
   ]
  },
  {
   "cell_type": "code",
   "execution_count": 10,
   "metadata": {},
   "outputs": [
    {
     "name": "stdout",
     "output_type": "stream",
     "text": [
      "0.8117392029348007\n"
     ]
    }
   ],
   "source": [
    "print(accuracy_score(y_test, y_pred))"
   ]
  },
  {
   "cell_type": "code",
   "execution_count": 11,
   "metadata": {},
   "outputs": [
    {
     "name": "stdout",
     "output_type": "stream",
     "text": [
      "[[239   0   0   0   0   1   0   2   9   2   0   0   0   5   1   2   1   4\n",
      "    5  29]\n",
      " [  1 221  23   4   5   2   3   0   5   2   2   2  16   7   6   0   0   0\n",
      "    0   1]\n",
      " [  0   8 256  13   7   4   3   0   1   0   0   1   3   0   0   0   0   0\n",
      "    0   4]\n",
      " [  0   5  10 250  14   0   7   2   1   2   0   3   6   0   0   0   0   0\n",
      "    0   0]\n",
      " [  0   4   5   5 267   0   2   2   3   0   0   1   3   4   3   0   1   0\n",
      "    0   0]\n",
      " [  0  10  19   6   4 240   4   0   7   0   0   0   6   1   3   0   0   0\n",
      "    0   0]\n",
      " [  0   1   1   5   6   0 266   5   5   0   2   0   5   1   1   1   0   0\n",
      "    0   1]\n",
      " [  0   0   0   0   1   0  11 272   8   0   0   0   2   0   2   0   1   0\n",
      "    2   1]\n",
      " [  0   2   1   1   0   1   7  13 257   3   0   0   4   2   1   0   2   0\n",
      "    5   1]\n",
      " [  2   0   2   0   5   0   7   3  17 230  21   0   5   5   1   0   0   0\n",
      "    1   1]\n",
      " [  0   0   1   0   0   1   3   1   7  21 262   0   1   1   1   0   1   0\n",
      "    0   0]\n",
      " [  1   5   1   1   1   2   1   1   6   0   0 263   4   1   0   0   8   0\n",
      "    3   2]\n",
      " [  0   2   4   6   7   1   6   4   5   1   0   2 259   2   0   0   0   0\n",
      "    0   1]\n",
      " [  6   2   1   0   1   1   2   2  13   1   1   0   6 256   3   0   2   0\n",
      "    1   2]\n",
      " [  0   6   0   0   3   2   4   2   1   1   0   1   4   2 269   0   1   0\n",
      "    2   2]\n",
      " [  3   0   1   0   0   1   0   0   1   0   0   0   0   1   0 287   0   2\n",
      "    1   0]\n",
      " [  2   0   0   0   0   0   1   2  10   0   0   1   3   1   0   0 263   0\n",
      "   11   6]\n",
      " [  3   1   1   0   1   0   4   1   6   1   0   0   1   4   1   0   5 255\n",
      "   16   0]\n",
      " [ 10   0   0   1   0   0   2   2  15  10   1   2   1  12   5   1  46  17\n",
      "  153  22]\n",
      " [ 86   0   0   0   0   0   1   2  15   0   0   0   1   5   4  20  39   6\n",
      "   18 103]]\n"
     ]
    }
   ],
   "source": [
    "print(confusion_matrix(y_test, y_pred))"
   ]
  }
 ],
 "metadata": {
  "kernelspec": {
   "display_name": "Python 3",
   "language": "python",
   "name": "python3"
  },
  "language_info": {
   "codemirror_mode": {
    "name": "ipython",
    "version": 3
   },
   "file_extension": ".py",
   "mimetype": "text/x-python",
   "name": "python",
   "nbconvert_exporter": "python",
   "pygments_lexer": "ipython3",
   "version": "3.6.4"
  }
 },
 "nbformat": 4,
 "nbformat_minor": 2
}
